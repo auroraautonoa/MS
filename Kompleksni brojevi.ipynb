{
 "cells": [
  {
   "cell_type": "markdown",
   "metadata": {},
   "source": [
    "# Kompleksni brojevi"
   ]
  },
  {
   "cell_type": "markdown",
   "metadata": {},
   "source": [
    "Kompleksni brojevi su brojevi oblika $$z = x + iy$$ gdje su $x$ i $y$ realni brojevi, a $i$ nazivamo imaginarnom jedinicom.\n",
    "\n",
    "Uvedimo najprije osnovne operacije nad kompleksnim brojevima za što nam je potreban cmath."
   ]
  },
  {
   "cell_type": "code",
   "execution_count": null,
   "metadata": {},
   "outputs": [],
   "source": [
    "import cmath \n",
    "import math \n",
    "import matplotlib.pyplot as plt\n",
    "import numpy as np\n",
    "import Latex\n",
    "\n",
    "\n",
    "# Inicijalizacija\n",
    "x = 1.0\n",
    "y = 1.0\n",
    "  \n",
    "# Pretvaramo x i y u kompleksni broj\n",
    "z = complex(x,y); \n"
   ]
  },
  {
   "cell_type": "markdown",
   "metadata": {},
   "source": [
    "Možemo definirati kompleksne brojeve na više načina, te dohvatiti njihove realne i imaginarne dijelove.\n"
   ]
  },
  {
   "cell_type": "code",
   "execution_count": 7,
   "metadata": {},
   "outputs": [
    {
     "name": "stdout",
     "output_type": "stream",
     "text": [
      "<class 'complex'>\n",
      "(2+3j)\n",
      "<class 'complex'>\n",
      "(3+9j)\n",
      "Realni dio = 2.0\n",
      "Imaginarni dio = 3.0\n",
      "Kompleksno konjugirani oblik = (2-3j)\n"
     ]
    }
   ],
   "source": [
    "z1 = 2 + 3j\n",
    "print(type(z1))\n",
    "print(z1)\n",
    "\n",
    "z2 = complex(3, 9)\n",
    "print(type(z2))\n",
    "print(z2)\n",
    "\n",
    "\n",
    "print('Realni dio =', z1.real)\n",
    "print('Imaginarni dio =', z1.imag)\n",
    "print('Kompleksno konjugirani oblik =', z1.conjugate())"
   ]
  },
  {
   "cell_type": "code",
   "execution_count": 10,
   "metadata": {},
   "outputs": [
    {
     "name": "stdout",
     "output_type": "stream",
     "text": [
      "Modul i argument kompleksnog broja : (1.4142135623730951, 0.7853981633974483)\n",
      "Zbrajanje = (3+6j)\n",
      "Oduzimanje = (-1-2j)\n",
      "Množenje = (-6+8j)\n",
      "Dijeljenje = (2+0j)\n"
     ]
    }
   ],
   "source": [
    "# Također, možemo transformirati u polarne koordinate\n",
    "w = cmath.polar(z) \n",
    "  \n",
    "print (\"Modul i argument kompleksnog broja : \",end=\"\") \n",
    "print (w) \n",
    "\n",
    "#Zbrajati, oduzimati,množiti, dijeliti\n",
    "\n",
    "c = 1 + 2j\n",
    "c1 = 2 + 4j\n",
    "print('Zbrajanje =', c + c1)\n",
    "print('Oduzimanje =', c - c1)\n",
    "print('Množenje =', c * c1)\n",
    "print('Dijeljenje =', c1 / c)"
   ]
  },
  {
   "cell_type": "code",
   "execution_count": 38,
   "metadata": {},
   "outputs": [
    {
     "name": "stdout",
     "output_type": "stream",
     "text": [
      "Modul ili apsolutna vrijednost = 2.8284271247461903\n",
      "Polarne koordinate = (2.8284271247461903, 0.7853981633974483)\n",
      "Argument kompleksnog broja 2 + 2j = 0.7853981633974483\n",
      "Argument kompleksnog broja u stupnjevima = 45.0\n",
      "Argument kompleksnog broja -2 - 2j = -2.356194490192345 radijani. Stupnjevi = -135.0\n",
      "Argument kompleksnog broja koristeći math.atan2() = 1.1071487177940904\n"
     ]
    }
   ],
   "source": [
    "c = 2 + 2j\n",
    "\n",
    "#Argument, modul, polarne koordinate\n",
    "phase = cmath.phase(c)\n",
    "modulus = abs(c)\n",
    "polar = cmath.polar(c)\n",
    "\n",
    "print('Modul ili apsolutna vrijednost =', modulus)\n",
    "\n",
    "print('Polarne koordinate =', polar)\n",
    "\n",
    "print('Argument kompleksnog broja 2 + 2j =', phase)\n",
    "print('Argument kompleksnog broja u stupnjevima =', np.degrees(phase))\n",
    "print('Argument kompleksnog broja -2 - 2j =', cmath.phase(-2 - 2j), 'radijani. Stupnjevi =', np.degrees(cmath.phase(-2 - 2j)))\n",
    "\n",
    "# Argument kompleksnog broja možemo izračunati i koristeći math.atan2() \n",
    "print('Argument kompleksnog broja koristeći math.atan2() =', math.atan2(2, 1))\n"
   ]
  },
  {
   "cell_type": "code",
   "execution_count": 23,
   "metadata": {},
   "outputs": [
    {
     "name": "stdout",
     "output_type": "stream",
     "text": [
      "π = 3.141592653589793\n",
      "e = 2.718281828459045\n",
      "tau = 6.283185307179586\n",
      "Positivna beskonačnost = inf\n",
      "Positivna kompleksna beskonačnost = infj\n"
     ]
    }
   ],
   "source": [
    "#Korisne konstante\n",
    "\n",
    "print('π =', cmath.pi)\n",
    "print('e =', cmath.e)\n",
    "print('tau =', cmath.tau)\n",
    "print('Positivna beskonačnost =', cmath.inf)\n",
    "print('Positivna kompleksna beskonačnost =', cmath.infj)\n"
   ]
  },
  {
   "cell_type": "code",
   "execution_count": 24,
   "metadata": {},
   "outputs": [
    {
     "name": "stdout",
     "output_type": "stream",
     "text": [
      "arc sine = (0.7542491446980459+1.7343245214879666j)\n",
      "arc cosine = (0.8165471820968505-1.7343245214879666j)\n",
      "arc tangent = (1.311223269671635+0.2388778612568591j)\n",
      "sine = (3.4209548611170133-1.5093064853236156j)\n",
      "cosine = (-1.5656258353157435-3.2978948363112366j)\n",
      "tangent = (-0.028392952868232294+1.0238355945704727j)\n"
     ]
    }
   ],
   "source": [
    "#Trigonometrijske funkcije\n",
    "\n",
    "c = 2 + 2j\n",
    "print('arc sine =', cmath.asin(c))\n",
    "print('arc cosine =', cmath.acos(c))\n",
    "print('arc tangent =', cmath.atan(c))\n",
    "\n",
    "print('sine =', cmath.sin(c))\n",
    "print('cosine =', cmath.cos(c))\n",
    "print('tangent =', cmath.tan(c))"
   ]
  },
  {
   "cell_type": "markdown",
   "metadata": {},
   "source": [
    "Zamislimo sada da se $x$ nalazi na horizontalnoj osi, a $y$ na vertikallnoj. \n",
    "Promotrimo jednu jednostavnu implementaciju.\n"
   ]
  },
  {
   "cell_type": "code",
   "execution_count": null,
   "metadata": {},
   "outputs": [],
   "source": [
    "n = int(input(\"Unesite broj točaka : \"))\n",
    "x = []\n",
    "y = []\n",
    "for a in range(0, n):\n",
    "    r = float(input(\"Unesite realni dio: \"))\n",
    "    i = float(input('Unesite imaginarni dio: '))\n",
    "    x.append(r)\n",
    "    y.append(i)\n",
    "plt.scatter(x, y, label=\"star\", marker=\"*\", color=\"green\", s=30)\n",
    "plt.xlabel('Realni dio')\n",
    "plt.ylabel('Imaginarni dio')\n",
    "plt.title('Kompleksni brojevi')\n",
    "plt.legend()\n",
    "plt.show()\n"
   ]
  },
  {
   "cell_type": "markdown",
   "metadata": {},
   "source": [
    "Prikaz u kompleksnoj ravnini ili \"Argand Diagram\"."
   ]
  },
  {
   "cell_type": "code",
   "execution_count": 65,
   "metadata": {},
   "outputs": [],
   "source": [
    "def argand(a):\n",
    "    for x in range(len(a)):\n",
    "        plt.plot([0,a[x].real],[0,a[x].imag],'green',label='python')\n",
    "    limit=np.max(np.ceil(np.absolute(a))) \n",
    "    plt.xlim((-limit,limit))\n",
    "    plt.ylim((-limit,limit))\n",
    "    plt.ylabel('Imaginarni dio')\n",
    "    plt.xlabel('Realni dio')\n",
    "    plt.show()\n",
    "plt.rcParams[\"figure.figsize\"] = (10,10)"
   ]
  },
  {
   "cell_type": "code",
   "execution_count": null,
   "metadata": {},
   "outputs": [],
   "source": [
    "a = np.arange(5) + 1j*np.arange(6,11)\n",
    "argand(a)"
   ]
  },
  {
   "cell_type": "markdown",
   "metadata": {},
   "source": [
    "Prikaz preko polarnih koordinata."
   ]
  },
  {
   "cell_type": "code",
   "execution_count": null,
   "metadata": {},
   "outputs": [],
   "source": [
    "for x in a:\n",
    "    plt.polar([0,angle(x)],[0,abs(x)],marker='*')\n",
    "plt.rcParams[\"figure.figsize\"] = (10,100)"
   ]
  },
  {
   "cell_type": "markdown",
   "metadata": {},
   "source": [
    "Postoje razni koordinatni sistemi za prikaz ravnine. Reprezentacija koja koristi $x$ i $y$ je Karezijev koordinatni sustav.\n",
    "Još jedan koristan je prikaz preko polarnih koordinata.\n",
    "Definiramo udaljenost od ishodišta i kut između pozitivnih dijelova x i y osi. Udaljenost označavamo $r$, a kut $\\theta$.\n",
    "\n",
    "Npr. kompleksni broj $1 + i$ bi imao $r=\\sqrt{2}$ i $\\theta=\\frac{\\pi}{4}$\n",
    "\n",
    "      "
   ]
  },
  {
   "cell_type": "code",
   "execution_count": null,
   "metadata": {},
   "outputs": [],
   "source": [
    "\n"
   ]
  },
  {
   "cell_type": "code",
   "execution_count": null,
   "metadata": {},
   "outputs": [],
   "source": []
  }
 ],
 "metadata": {},
 "nbformat": 4,
 "nbformat_minor": 2
}
