{
 "cells": [
  {
   "cell_type": "code",
   "execution_count": 1,
   "metadata": {},
   "outputs": [
    {
     "name": "stdout",
     "output_type": "stream",
     "text": [
      "True\n",
      "True\n",
      "False\n",
      "True\n",
      "False\n",
      "False\n",
      "False\n",
      "True\n",
      "True\n",
      "False\n"
     ]
    }
   ],
   "source": [
    "import numpy as np\n",
    "import random\n",
    "\n",
    "np.random.seed(177046925)\n",
    "\n",
    "def is_covered(room, sensor):\n",
    "    random.seed(177046925)\n",
    "    dot1 = np.random.uniform(0,room[0],(1000000,2))\n",
    "    dot1[:,1]=0\n",
    "\n",
    "    dot2 = np.random.uniform(0,room[1],(1000000,2))\n",
    "    dot2[:,0]=0\n",
    "\n",
    "    dots=dot1+dot2\n",
    "\n",
    "    for i in range (len(sensor)):\n",
    "        dots=dots[(dots[:,0]-sensor[i][0])**2 + (dots[:,1]-sensor[i][1])**2 > sensor[i][2]**2]\n",
    "    \n",
    "    if not dots.size:\n",
    "        return True\n",
    "    else:\n",
    "        return False\n",
    "\n",
    "print(is_covered([200, 150], [[100, 75, 130]]))\n",
    "print(is_covered([200, 150], [[50, 75, 100], [150, 75, 100]]))\n",
    "print(is_covered([200, 150], [[50, 75, 100], [150, 25, 50], [150, 125, 50]]))\n",
    "print(is_covered([200, 150], [[100, 75, 100], [0, 40, 60], [0, 110, 60], [200, 40, 60], [200, 110, 60]]))\n",
    "print(is_covered([200, 150], [[100, 75, 100], [0, 40, 50], [0, 110, 50], [200, 40, 50], [200, 110, 50]]))\n",
    "print(is_covered([200, 150], [[100, 75, 110], [105, 75, 110]]))\n",
    "print(is_covered([200, 150], [[100, 75, 110], [105, 75, 20]]))\n",
    "print(is_covered([3, 1], [[1, 0, 2], [2, 1, 2]]))\n",
    "print(is_covered([30, 10], [[0, 10, 10], [10, 0, 10], [20, 10, 10], [30, 0, 10]]))\n",
    "print(is_covered([30, 10], [[0, 10, 8], [10, 0, 7], [20, 10, 9], [30, 0, 10]]))"
   ]
  },
  {
   "cell_type": "code",
   "execution_count": null,
   "metadata": {},
   "outputs": [],
   "source": []
  }
 ],
 "metadata": {
  "kernelspec": {
   "display_name": "Python 3",
   "language": "python",
   "name": "python3"
  },
  "language_info": {
   "codemirror_mode": {
    "name": "ipython",
    "version": 3
   },
   "file_extension": ".py",
   "mimetype": "text/x-python",
   "name": "python",
   "nbconvert_exporter": "python",
   "pygments_lexer": "ipython3",
   "version": "3.7.4"
  }
 },
 "nbformat": 4,
 "nbformat_minor": 2
}
